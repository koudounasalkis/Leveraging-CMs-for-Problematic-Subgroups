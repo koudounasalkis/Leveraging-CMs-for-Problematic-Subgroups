{
 "cells": [
  {
   "cell_type": "code",
   "execution_count": 8,
   "metadata": {},
   "outputs": [],
   "source": [
    "import pandas as pd\n",
    "from signal_metadata_extraction import MetadataExtractor"
   ]
  },
  {
   "cell_type": "code",
   "execution_count": null,
   "metadata": {},
   "outputs": [],
   "source": [
    "files = ['train_data.csv', 'test_data.csv', 'valid_data.csv']\n",
    "\n",
    "for file in files:\n",
    "\n",
    "    metadata_extractor = MetadataExtractor()\n",
    "    metadatas = []\n",
    "    audio_col = 'path'\n",
    "\n",
    "    df_divExplorer = pd.read_csv(file)\n",
    "\n",
    "    from tqdm import tqdm\n",
    "    for i in tqdm(range(len(df_divExplorer))):\n",
    "\n",
    "        audio_file = df_divExplorer[audio_col].iloc[i]\n",
    "        signal_metadata = metadata_extractor.signal_metadata(audio_file)\n",
    "        \n",
    "        sentence = df_divExplorer['transcription'].iloc[i] \n",
    "        text_metadata = metadata_extractor.text_metadata(sentence)\n",
    "        mixed_metadata = metadata_extractor.mixed_metadata(signal_metadata, text_metadata)\n",
    "        metadatas.append(signal_metadata + text_metadata + mixed_metadata)\n",
    "\n",
    "    meta_cols = metadata_extractor.list_signal_metadata \\\n",
    "            + metadata_extractor.list_text_metadata \\\n",
    "            + metadata_extractor.list_sig_text_metadata\n",
    "    df_divExplorer_metas = pd.concat([df_divExplorer, pd.DataFrame(metadatas, columns=meta_cols)], axis=1)\n",
    "\n",
    "    print(\"Metadata columns: \", meta_cols)\n",
    "    print(\"---\")\n",
    "    print(\"Df for DivExplorer Columns: \", df_divExplorer_metas.columns)\n",
    "\n",
    "    ## Merge df_divExplorer_metas with df_demo on 'speakerId'\n",
    "    df_divExplorer_metas_demo = pd.merge(df_divExplorer_metas, df_demo, on='speakerId', how='left')\n",
    "    print(len(df_divExplorer_metas_demo), len(df_divExplorer_metas), len(df_demo))\n",
    "\n",
    "    df_divExplorer_metas_demo.to_csv(file, index=False)"
   ]
  }
 ],
 "metadata": {
  "kernelspec": {
   "display_name": "speech",
   "language": "python",
   "name": "python3"
  },
  "language_info": {
   "codemirror_mode": {
    "name": "ipython",
    "version": 3
   },
   "file_extension": ".py",
   "mimetype": "text/x-python",
   "name": "python",
   "nbconvert_exporter": "python",
   "pygments_lexer": "ipython3",
   "version": "3.10.8"
  },
  "orig_nbformat": 4,
  "vscode": {
   "interpreter": {
    "hash": "50f798c039f92e39594af06ec0119751541d975fa6ec3b2f5528645cd2e370ad"
   }
  }
 },
 "nbformat": 4,
 "nbformat_minor": 2
}
